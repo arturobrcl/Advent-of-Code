{
 "cells": [
  {
   "cell_type": "code",
   "execution_count": 1,
   "metadata": {},
   "outputs": [],
   "source": [
    "import pandas as pd\n",
    "distances = pd.read_csv('D:\\\\Documents\\\\Programming\\\\Python\\\\Advent-of-Code\\\\Day 1\\\\distances.csv', names=['A','B', 'C', 'D'], sep=' ')\n",
    "distances = distances.drop(['B', 'C'], axis=1)"
   ]
  },
  {
   "cell_type": "code",
   "execution_count": 2,
   "metadata": {},
   "outputs": [
    {
     "name": "stdout",
     "output_type": "stream",
     "text": [
      "1666427\n"
     ]
    }
   ],
   "source": [
    "distances['A'] = distances['A'].sort_values().values\n",
    "distances['D'] = distances['D'].sort_values().values\n",
    "distances['Distance'] = abs(distances['D']-distances['A'])\n",
    "total_distance = sum(distances['Distance'])\n",
    "print(total_distance)"
   ]
  },
  {
   "cell_type": "code",
   "execution_count": 3,
   "metadata": {},
   "outputs": [
    {
     "data": {
      "text/plain": [
       "24316233.0"
      ]
     },
     "execution_count": 3,
     "metadata": {},
     "output_type": "execute_result"
    }
   ],
   "source": [
    "uniq_dist = pd.unique(distances['A'])\n",
    "uniq_dist = pd.DataFrame(uniq_dist)\n",
    "uniq_dist.columns = ['A']\n",
    "uniq_dist['Count'] = uniq_dist['A'].map(distances['D'].value_counts())\n",
    "uniq_dist = uniq_dist.dropna()\n",
    "uniq_dist['Total'] = uniq_dist['A'] * uniq_dist['Count']\n",
    "sum(uniq_dist['Total'])"
   ]
  },
  {
   "cell_type": "code",
   "execution_count": null,
   "metadata": {},
   "outputs": [],
   "source": []
  }
 ],
 "metadata": {
  "kernelspec": {
   "display_name": "Python 3",
   "language": "python",
   "name": "python3"
  },
  "language_info": {
   "codemirror_mode": {
    "name": "ipython",
    "version": 3
   },
   "file_extension": ".py",
   "mimetype": "text/x-python",
   "name": "python",
   "nbconvert_exporter": "python",
   "pygments_lexer": "ipython3",
   "version": "3.12.3"
  }
 },
 "nbformat": 4,
 "nbformat_minor": 2
}
