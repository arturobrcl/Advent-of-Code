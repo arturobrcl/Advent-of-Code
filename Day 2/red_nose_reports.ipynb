{
 "cells": [
  {
   "cell_type": "code",
   "execution_count": 1,
   "metadata": {},
   "outputs": [],
   "source": [
    "import pandas as pd\n",
    "import numpy as np\n",
    "reports = pd.read_csv('D:\\\\Documents\\\\Programming\\\\Python\\\\Advent-of-Code\\\\Day 2\\\\red_nose_reports.csv', sep='\\t')"
   ]
  },
  {
   "cell_type": "code",
   "execution_count": 2,
   "metadata": {},
   "outputs": [],
   "source": [
    "reports ['AB'] = reports['B']-reports['A']\n",
    "reports ['BC'] = reports['C']-reports['B']\n",
    "reports ['CD'] = reports['D']-reports['C']\n",
    "reports ['DE'] = reports['E']-reports['D']\n",
    "reports ['EF'] = reports['F']-reports['E']\n",
    "reports ['FG'] = reports['G']-reports['F']\n",
    "reports ['GH'] = reports['H']-reports['G']"
   ]
  },
  {
   "cell_type": "code",
   "execution_count": 3,
   "metadata": {},
   "outputs": [],
   "source": [
    "selected_columns = ['AB', 'BC', 'CD', 'DE', 'EF', 'FG', 'GH']\n",
    "df_diff = reports[selected_columns]\n",
    "df_diff = df_diff.ffill(axis=1)\n",
    "all_positive = df_diff.gt(0).all(axis=1) & df_diff.lt(4).all(axis=1)\n",
    "all_negative = df_diff.lt(0).all(axis=1) & df_diff.gt(-4).all(axis=1) \n",
    "valid_rows = (all_positive | all_negative)  & df_diff.notna().all(axis=1)"
   ]
  },
  {
   "cell_type": "code",
   "execution_count": 4,
   "metadata": {},
   "outputs": [],
   "source": [
    "new_reports = reports.loc[valid_rows]"
   ]
  },
  {
   "cell_type": "code",
   "execution_count": 7,
   "metadata": {},
   "outputs": [
    {
     "data": {
      "text/plain": [
       "559"
      ]
     },
     "execution_count": 7,
     "metadata": {},
     "output_type": "execute_result"
    }
   ],
   "source": [
    "len(new_reports['A'])"
   ]
  },
  {
   "cell_type": "code",
   "execution_count": null,
   "metadata": {},
   "outputs": [],
   "source": []
  }
 ],
 "metadata": {
  "kernelspec": {
   "display_name": "Python 3",
   "language": "python",
   "name": "python3"
  },
  "language_info": {
   "codemirror_mode": {
    "name": "ipython",
    "version": 3
   },
   "file_extension": ".py",
   "mimetype": "text/x-python",
   "name": "python",
   "nbconvert_exporter": "python",
   "pygments_lexer": "ipython3",
   "version": "3.12.3"
  }
 },
 "nbformat": 4,
 "nbformat_minor": 2
}
